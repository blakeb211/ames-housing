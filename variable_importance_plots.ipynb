{
 "cells": [
  {
   "cell_type": "code",
   "execution_count": null,
   "metadata": {},
   "outputs": [],
   "source": [
    "# Linear Models\n",
    "importances = list(zip(pipe_final._final_estimator.feature_names_in_,\n",
    "                   pipe_final._final_estimator.coef_))\n",
    "sorted(importances, key=lambda x: abs(x[1]), reverse=True)"
   ]
  }
 ],
 "metadata": {
  "kernelspec": {
   "display_name": "env",
   "language": "python",
   "name": "python3"
  },
  "language_info": {
   "name": "python",
   "version": "3.9.12 (main, Apr  5 2022, 06:56:58) \n[GCC 7.5.0]"
  },
  "orig_nbformat": 4,
  "vscode": {
   "interpreter": {
    "hash": "0ee153218ae00d393540c970c6fea298c72d959f350a26ec754b2d530f0ff98f"
   }
  }
 },
 "nbformat": 4,
 "nbformat_minor": 2
}
