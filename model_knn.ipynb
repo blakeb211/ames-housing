{
 "cells": [
  {
   "cell_type": "code",
   "execution_count": 73,
   "id": "2937f8fa",
   "metadata": {},
   "outputs": [],
   "source": [
    "from ingestion import make_cleaned\n",
    "import numpy as np\n",
    "import pandas as pd\n",
    "from sklearn.neighbors import KNeighborsRegressor\n",
    "from sklearn.preprocessing import OneHotEncoder, StandardScaler\n",
    "from feature_engine.wrappers import SklearnTransformerWrapper\n",
    "from sklearn.model_selection import GridSearchCV, train_test_split\n",
    "from sklearn.pipeline import make_pipeline"
   ]
  },
  {
   "cell_type": "code",
   "execution_count": 85,
   "id": "93b02aa1",
   "metadata": {},
   "outputs": [
    {
     "data": {
      "text/plain": [
       "count           2930.0\n",
       "mean     180796.060068\n",
       "std       79886.692357\n",
       "min            12789.0\n",
       "25%           129500.0\n",
       "50%           160000.0\n",
       "75%           213500.0\n",
       "max           755000.0\n",
       "Name: SalePrice, dtype: Float64"
      ]
     },
     "execution_count": 85,
     "metadata": {},
     "output_type": "execute_result"
    }
   ],
   "source": [
    "clean = make_cleaned()\n",
    "y = clean.pop('SalePrice')\n",
    "X = clean\n",
    "y.describe()"
   ]
  },
  {
   "cell_type": "code",
   "execution_count": 115,
   "id": "ddb435b2",
   "metadata": {},
   "outputs": [
    {
     "data": {
      "text/plain": [
       "[<matplotlib.lines.Line2D at 0x7f6036f28eb0>]"
      ]
     },
     "execution_count": 115,
     "metadata": {},
     "output_type": "execute_result"
    },
    {
     "data": {
      "image/png": "[encoded data removed]",
      "text/plain": [
       "<Figure size 640x480 with 1 Axes>"
      ]
     },
     "metadata": {},
     "output_type": "display_data"
    }
   ],
   "source": [
    "# Cannot stratify on y with train_test_split unless we bin it first.\n",
    "bins = np.float64(np.histogram(y,bins=2)[1])\n",
    "y_binned = np.digitize(y,bins=bins)\n",
    "plt.plot(y_binned)"
   ]
  },
  {
   "cell_type": "code",
   "execution_count": 114,
   "id": "329124e0",
   "metadata": {},
   "outputs": [
    {
     "ename": "ValueError",
     "evalue": "The least populated class in y has only 1 member, which is too few. The minimum number of groups for any class cannot be less than 2.",
     "output_type": "error",
     "traceback": [
      "\u001b[0;31m---------------------------------------------------------------------------\u001b[0m",
      "\u001b[0;31mValueError\u001b[0m                                Traceback (most recent call last)",
      "Cell \u001b[0;32mIn[114], line 1\u001b[0m\n\u001b[0;32m----> 1\u001b[0m X_train, X_test, y_train, y_test \u001b[38;5;241m=\u001b[39m \u001b[43mtrain_test_split\u001b[49m\u001b[43m(\u001b[49m\u001b[43mX\u001b[49m\u001b[43m,\u001b[49m\u001b[43my\u001b[49m\u001b[43m,\u001b[49m\u001b[43mtest_size\u001b[49m\u001b[38;5;241;43m=\u001b[39;49m\u001b[38;5;241;43m0.2\u001b[39;49m\u001b[43m,\u001b[49m\u001b[43mrandom_state\u001b[49m\u001b[38;5;241;43m=\u001b[39;49m\u001b[38;5;241;43m42\u001b[39;49m\u001b[43m,\u001b[49m\u001b[43mstratify\u001b[49m\u001b[38;5;241;43m=\u001b[39;49m\u001b[43my_binned\u001b[49m\u001b[43m)\u001b[49m\n",
      "File \u001b[0;32m~/ames-housing/env/lib/python3.9/site-packages/sklearn/model_selection/_split.py:2583\u001b[0m, in \u001b[0;36mtrain_test_split\u001b[0;34m(test_size, train_size, random_state, shuffle, stratify, *arrays)\u001b[0m\n\u001b[1;32m   2579\u001b[0m         CVClass \u001b[38;5;241m=\u001b[39m ShuffleSplit\n\u001b[1;32m   2581\u001b[0m     cv \u001b[38;5;241m=\u001b[39m CVClass(test_size\u001b[38;5;241m=\u001b[39mn_test, train_size\u001b[38;5;241m=\u001b[39mn_train, random_state\u001b[38;5;241m=\u001b[39mrandom_state)\n\u001b[0;32m-> 2583\u001b[0m     train, test \u001b[38;5;241m=\u001b[39m \u001b[38;5;28;43mnext\u001b[39;49m\u001b[43m(\u001b[49m\u001b[43mcv\u001b[49m\u001b[38;5;241;43m.\u001b[39;49m\u001b[43msplit\u001b[49m\u001b[43m(\u001b[49m\u001b[43mX\u001b[49m\u001b[38;5;241;43m=\u001b[39;49m\u001b[43marrays\u001b[49m\u001b[43m[\u001b[49m\u001b[38;5;241;43m0\u001b[39;49m\u001b[43m]\u001b[49m\u001b[43m,\u001b[49m\u001b[43m \u001b[49m\u001b[43my\u001b[49m\u001b[38;5;241;43m=\u001b[39;49m\u001b[43mstratify\u001b[49m\u001b[43m)\u001b[49m\u001b[43m)\u001b[49m\n\u001b[1;32m   2585\u001b[0m \u001b[38;5;28;01mreturn\u001b[39;00m \u001b[38;5;28mlist\u001b[39m(\n\u001b[1;32m   2586\u001b[0m     chain\u001b[38;5;241m.\u001b[39mfrom_iterable(\n\u001b[1;32m   2587\u001b[0m         (_safe_indexing(a, train), _safe_indexing(a, test)) \u001b[38;5;28;01mfor\u001b[39;00m a \u001b[38;5;129;01min\u001b[39;00m arrays\n\u001b[1;32m   2588\u001b[0m     )\n\u001b[1;32m   2589\u001b[0m )\n",
      "File \u001b[0;32m~/ames-housing/env/lib/python3.9/site-packages/sklearn/model_selection/_split.py:1689\u001b[0m, in \u001b[0;36mBaseShuffleSplit.split\u001b[0;34m(self, X, y, groups)\u001b[0m\n\u001b[1;32m   1659\u001b[0m \u001b[38;5;250m\u001b[39m\u001b[38;5;124;03m\"\"\"Generate indices to split data into training and test set.\u001b[39;00m\n\u001b[1;32m   1660\u001b[0m \n\u001b[1;32m   1661\u001b[0m \u001b[38;5;124;03mParameters\u001b[39;00m\n\u001b[0;32m   (...)\u001b[0m\n\u001b[1;32m   1686\u001b[0m \u001b[38;5;124;03mto an integer.\u001b[39;00m\n\u001b[1;32m   1687\u001b[0m \u001b[38;5;124;03m\"\"\"\u001b[39;00m\n\u001b[1;32m   1688\u001b[0m X, y, groups \u001b[38;5;241m=\u001b[39m indexable(X, y, groups)\n\u001b[0;32m-> 1689\u001b[0m \u001b[38;5;28;01mfor\u001b[39;00m train, test \u001b[38;5;129;01min\u001b[39;00m \u001b[38;5;28mself\u001b[39m\u001b[38;5;241m.\u001b[39m_iter_indices(X, y, groups):\n\u001b[1;32m   1690\u001b[0m     \u001b[38;5;28;01myield\u001b[39;00m train, test\n",
      "File \u001b[0;32m~/ames-housing/env/lib/python3.9/site-packages/sklearn/model_selection/_split.py:2078\u001b[0m, in \u001b[0;36mStratifiedShuffleSplit._iter_indices\u001b[0;34m(self, X, y, groups)\u001b[0m\n\u001b[1;32m   2076\u001b[0m class_counts \u001b[38;5;241m=\u001b[39m np\u001b[38;5;241m.\u001b[39mbincount(y_indices)\n\u001b[1;32m   2077\u001b[0m \u001b[38;5;28;01mif\u001b[39;00m np\u001b[38;5;241m.\u001b[39mmin(class_counts) \u001b[38;5;241m<\u001b[39m \u001b[38;5;241m2\u001b[39m:\n\u001b[0;32m-> 2078\u001b[0m     \u001b[38;5;28;01mraise\u001b[39;00m \u001b[38;5;167;01mValueError\u001b[39;00m(\n\u001b[1;32m   2079\u001b[0m         \u001b[38;5;124m\"\u001b[39m\u001b[38;5;124mThe least populated class in y has only 1\u001b[39m\u001b[38;5;124m\"\u001b[39m\n\u001b[1;32m   2080\u001b[0m         \u001b[38;5;124m\"\u001b[39m\u001b[38;5;124m member, which is too few. The minimum\u001b[39m\u001b[38;5;124m\"\u001b[39m\n\u001b[1;32m   2081\u001b[0m         \u001b[38;5;124m\"\u001b[39m\u001b[38;5;124m number of groups for any class cannot\u001b[39m\u001b[38;5;124m\"\u001b[39m\n\u001b[1;32m   2082\u001b[0m         \u001b[38;5;124m\"\u001b[39m\u001b[38;5;124m be less than 2.\u001b[39m\u001b[38;5;124m\"\u001b[39m\n\u001b[1;32m   2083\u001b[0m     )\n\u001b[1;32m   2085\u001b[0m \u001b[38;5;28;01mif\u001b[39;00m n_train \u001b[38;5;241m<\u001b[39m n_classes:\n\u001b[1;32m   2086\u001b[0m     \u001b[38;5;28;01mraise\u001b[39;00m \u001b[38;5;167;01mValueError\u001b[39;00m(\n\u001b[1;32m   2087\u001b[0m         \u001b[38;5;124m\"\u001b[39m\u001b[38;5;124mThe train_size = \u001b[39m\u001b[38;5;132;01m%d\u001b[39;00m\u001b[38;5;124m should be greater or \u001b[39m\u001b[38;5;124m\"\u001b[39m\n\u001b[1;32m   2088\u001b[0m         \u001b[38;5;124m\"\u001b[39m\u001b[38;5;124mequal to the number of classes = \u001b[39m\u001b[38;5;132;01m%d\u001b[39;00m\u001b[38;5;124m\"\u001b[39m \u001b[38;5;241m%\u001b[39m (n_train, n_classes)\n\u001b[1;32m   2089\u001b[0m     )\n",
      "\u001b[0;31mValueError\u001b[0m: The least populated class in y has only 1 member, which is too few. The minimum number of groups for any class cannot be less than 2."
     ]
    }
   ],
   "source": [
    "X_train, X_test, y_train, y_test = train_test_split(X,y,test_size=0.2,random_state=42,stratify=y_binned)"
   ]
  },
  {
   "cell_type": "code",
   "execution_count": 110,
   "id": "5f5c7b25",
   "metadata": {},
   "outputs": [
    {
     "data": {
      "text/plain": [
       "count           2344.0\n",
       "mean     178582.207765\n",
       "std       77125.072713\n",
       "min            12789.0\n",
       "25%           129000.0\n",
       "50%           160000.0\n",
       "75%           210000.0\n",
       "max           755000.0\n",
       "Name: SalePrice, dtype: Float64"
      ]
     },
     "execution_count": 110,
     "metadata": {},
     "output_type": "execute_result"
    }
   ],
   "source": [
    "y_train.describe()"
   ]
  },
  {
   "cell_type": "code",
   "execution_count": 79,
   "id": "7df350b6",
   "metadata": {},
   "outputs": [
    {
     "data": {
      "text/plain": [
       "count            586.0\n",
       "mean     189651.469283\n",
       "std       89617.259169\n",
       "min            44000.0\n",
       "25%           130000.0\n",
       "50%           165000.0\n",
       "75%           228375.0\n",
       "max           625000.0\n",
       "Name: SalePrice, dtype: Float64"
      ]
     },
     "execution_count": 79,
     "metadata": {},
     "output_type": "execute_result"
    }
   ],
   "source": [
    "y_test.describe()"
   ]
  },
  {
   "cell_type": "code",
   "execution_count": 50,
   "id": "ea8d1faf",
   "metadata": {},
   "outputs": [],
   "source": [
    "categoric_cols = clean.select_dtypes(include=object).columns.tolist()\n",
    "std_scaler = SklearnTransformerWrapper(transformer=StandardScaler())\n",
    "OH_encoder = SklearnTransformerWrapper(transformer=OneHotEncoder(sparse_output=False, drop='if_binary',min_frequency=0.05,handle_unknown='ignore'), variables=categoric_cols)\n",
    "pipe = make_pipeline(std_scaler,OH_encoder,KNeighborsRegressor())\n",
    "gs = GridSearchCV(n_jobs=3, estimator=pipe, cv=10,scoring='neg_root_mean_squared_error',param_grid={'kneighborsregressor__n_neighbors':np.arange(1,10)})"
   ]
  },
  {
   "cell_type": "code",
   "execution_count": 52,
   "id": "3ad55796",
   "metadata": {},
   "outputs": [
    {
     "name": "stderr",
     "output_type": "stream",
     "text": [
      "/home/bb/ames-housing/env/lib/python3.9/site-packages/sklearn/preprocessing/_encoders.py:202: UserWarning: Found unknown categories in columns [14, 15, 16] during transform. These unknown categories will be encoded as all zeros\n",
      "  warnings.warn(\n",
      "/home/bb/ames-housing/env/lib/python3.9/site-packages/sklearn/preprocessing/_encoders.py:202: UserWarning: Found unknown categories in columns [30] during transform. These unknown categories will be encoded as all zeros\n",
      "  warnings.warn(\n",
      "/home/bb/ames-housing/env/lib/python3.9/site-packages/sklearn/preprocessing/_encoders.py:202: UserWarning: Found unknown categories in columns [8, 10, 25] during transform. These unknown categories will be encoded as all zeros\n",
      "  warnings.warn(\n",
      "/home/bb/ames-housing/env/lib/python3.9/site-packages/sklearn/preprocessing/_encoders.py:202: UserWarning: Found unknown categories in columns [5, 22] during transform. These unknown categories will be encoded as all zeros\n",
      "  warnings.warn(\n",
      "/home/bb/ames-housing/env/lib/python3.9/site-packages/sklearn/preprocessing/_encoders.py:202: UserWarning: Found unknown categories in columns [0, 15, 30, 31] during transform. These unknown categories will be encoded as all zeros\n",
      "  warnings.warn(\n",
      "/home/bb/ames-housing/env/lib/python3.9/site-packages/sklearn/preprocessing/_encoders.py:202: UserWarning: Found unknown categories in columns [22] during transform. These unknown categories will be encoded as all zeros\n",
      "  warnings.warn(\n",
      "/home/bb/ames-housing/env/lib/python3.9/site-packages/sklearn/preprocessing/_encoders.py:202: UserWarning: Found unknown categories in columns [10, 24, 31] during transform. These unknown categories will be encoded as all zeros\n",
      "  warnings.warn(\n",
      "/home/bb/ames-housing/env/lib/python3.9/site-packages/sklearn/preprocessing/_encoders.py:202: UserWarning: Found unknown categories in columns [14, 15, 16] during transform. These unknown categories will be encoded as all zeros\n",
      "  warnings.warn(\n",
      "/home/bb/ames-housing/env/lib/python3.9/site-packages/sklearn/preprocessing/_encoders.py:202: UserWarning: Found unknown categories in columns [14] during transform. These unknown categories will be encoded as all zeros\n",
      "  warnings.warn(\n",
      "/home/bb/ames-housing/env/lib/python3.9/site-packages/sklearn/preprocessing/_encoders.py:202: UserWarning: Found unknown categories in columns [15, 16] during transform. These unknown categories will be encoded as all zeros\n",
      "  warnings.warn(\n",
      "/home/bb/ames-housing/env/lib/python3.9/site-packages/sklearn/preprocessing/_encoders.py:202: UserWarning: Found unknown categories in columns [30] during transform. These unknown categories will be encoded as all zeros\n",
      "  warnings.warn(\n",
      "/home/bb/ames-housing/env/lib/python3.9/site-packages/sklearn/preprocessing/_encoders.py:202: UserWarning: Found unknown categories in columns [8, 10, 25] during transform. These unknown categories will be encoded as all zeros\n",
      "  warnings.warn(\n",
      "/home/bb/ames-housing/env/lib/python3.9/site-packages/sklearn/preprocessing/_encoders.py:202: UserWarning: Found unknown categories in columns [22] during transform. These unknown categories will be encoded as all zeros\n",
      "  warnings.warn(\n",
      "/home/bb/ames-housing/env/lib/python3.9/site-packages/sklearn/preprocessing/_encoders.py:202: UserWarning: Found unknown categories in columns [5, 22] during transform. These unknown categories will be encoded as all zeros\n",
      "  warnings.warn(\n",
      "/home/bb/ames-housing/env/lib/python3.9/site-packages/sklearn/preprocessing/_encoders.py:202: UserWarning: Found unknown categories in columns [14] during transform. These unknown categories will be encoded as all zeros\n",
      "  warnings.warn(\n",
      "/home/bb/ames-housing/env/lib/python3.9/site-packages/sklearn/preprocessing/_encoders.py:202: UserWarning: Found unknown categories in columns [0, 15, 30, 31] during transform. These unknown categories will be encoded as all zeros\n",
      "  warnings.warn(\n",
      "/home/bb/ames-housing/env/lib/python3.9/site-packages/sklearn/preprocessing/_encoders.py:202: UserWarning: Found unknown categories in columns [10, 24, 31] during transform. These unknown categories will be encoded as all zeros\n",
      "  warnings.warn(\n",
      "/home/bb/ames-housing/env/lib/python3.9/site-packages/sklearn/preprocessing/_encoders.py:202: UserWarning: Found unknown categories in columns [14, 15, 16] during transform. These unknown categories will be encoded as all zeros\n",
      "  warnings.warn(\n",
      "/home/bb/ames-housing/env/lib/python3.9/site-packages/sklearn/preprocessing/_encoders.py:202: UserWarning: Found unknown categories in columns [30] during transform. These unknown categories will be encoded as all zeros\n",
      "  warnings.warn(\n",
      "/home/bb/ames-housing/env/lib/python3.9/site-packages/sklearn/preprocessing/_encoders.py:202: UserWarning: Found unknown categories in columns [15, 16] during transform. These unknown categories will be encoded as all zeros\n",
      "  warnings.warn(\n",
      "/home/bb/ames-housing/env/lib/python3.9/site-packages/sklearn/preprocessing/_encoders.py:202: UserWarning: Found unknown categories in columns [5, 22] during transform. These unknown categories will be encoded as all zeros\n",
      "  warnings.warn(\n",
      "/home/bb/ames-housing/env/lib/python3.9/site-packages/sklearn/preprocessing/_encoders.py:202: UserWarning: Found unknown categories in columns [8, 10, 25] during transform. These unknown categories will be encoded as all zeros\n",
      "  warnings.warn(\n",
      "/home/bb/ames-housing/env/lib/python3.9/site-packages/sklearn/preprocessing/_encoders.py:202: UserWarning: Found unknown categories in columns [22] during transform. These unknown categories will be encoded as all zeros\n",
      "  warnings.warn(\n",
      "/home/bb/ames-housing/env/lib/python3.9/site-packages/sklearn/preprocessing/_encoders.py:202: UserWarning: Found unknown categories in columns [10, 24, 31] during transform. These unknown categories will be encoded as all zeros\n",
      "  warnings.warn(\n",
      "/home/bb/ames-housing/env/lib/python3.9/site-packages/sklearn/preprocessing/_encoders.py:202: UserWarning: Found unknown categories in columns [0, 15, 30, 31] during transform. These unknown categories will be encoded as all zeros\n",
      "  warnings.warn(\n",
      "/home/bb/ames-housing/env/lib/python3.9/site-packages/sklearn/preprocessing/_encoders.py:202: UserWarning: Found unknown categories in columns [14] during transform. These unknown categories will be encoded as all zeros\n",
      "  warnings.warn(\n",
      "/home/bb/ames-housing/env/lib/python3.9/site-packages/sklearn/preprocessing/_encoders.py:202: UserWarning: Found unknown categories in columns [15, 16] during transform. These unknown categories will be encoded as all zeros\n",
      "  warnings.warn(\n",
      "/home/bb/ames-housing/env/lib/python3.9/site-packages/sklearn/preprocessing/_encoders.py:202: UserWarning: Found unknown categories in columns [14, 15, 16] during transform. These unknown categories will be encoded as all zeros\n",
      "  warnings.warn(\n",
      "/home/bb/ames-housing/env/lib/python3.9/site-packages/sklearn/preprocessing/_encoders.py:202: UserWarning: Found unknown categories in columns [30] during transform. These unknown categories will be encoded as all zeros\n",
      "  warnings.warn(\n",
      "/home/bb/ames-housing/env/lib/python3.9/site-packages/sklearn/preprocessing/_encoders.py:202: UserWarning: Found unknown categories in columns [8, 10, 25] during transform. These unknown categories will be encoded as all zeros\n",
      "  warnings.warn(\n",
      "/home/bb/ames-housing/env/lib/python3.9/site-packages/sklearn/preprocessing/_encoders.py:202: UserWarning: Found unknown categories in columns [5, 22] during transform. These unknown categories will be encoded as all zeros\n",
      "  warnings.warn(\n",
      "/home/bb/ames-housing/env/lib/python3.9/site-packages/sklearn/preprocessing/_encoders.py:202: UserWarning: Found unknown categories in columns [0, 15, 30, 31] during transform. These unknown categories will be encoded as all zeros\n",
      "  warnings.warn(\n",
      "/home/bb/ames-housing/env/lib/python3.9/site-packages/sklearn/preprocessing/_encoders.py:202: UserWarning: Found unknown categories in columns [22] during transform. These unknown categories will be encoded as all zeros\n",
      "  warnings.warn(\n",
      "/home/bb/ames-housing/env/lib/python3.9/site-packages/sklearn/preprocessing/_encoders.py:202: UserWarning: Found unknown categories in columns [10, 24, 31] during transform. These unknown categories will be encoded as all zeros\n",
      "  warnings.warn(\n",
      "/home/bb/ames-housing/env/lib/python3.9/site-packages/sklearn/preprocessing/_encoders.py:202: UserWarning: Found unknown categories in columns [14, 15, 16] during transform. These unknown categories will be encoded as all zeros\n",
      "  warnings.warn(\n",
      "/home/bb/ames-housing/env/lib/python3.9/site-packages/sklearn/preprocessing/_encoders.py:202: UserWarning: Found unknown categories in columns [14] during transform. These unknown categories will be encoded as all zeros\n",
      "  warnings.warn(\n",
      "/home/bb/ames-housing/env/lib/python3.9/site-packages/sklearn/preprocessing/_encoders.py:202: UserWarning: Found unknown categories in columns [15, 16] during transform. These unknown categories will be encoded as all zeros\n",
      "  warnings.warn(\n",
      "/home/bb/ames-housing/env/lib/python3.9/site-packages/sklearn/preprocessing/_encoders.py:202: UserWarning: Found unknown categories in columns [30] during transform. These unknown categories will be encoded as all zeros\n",
      "  warnings.warn(\n"
     ]
    },
    {
     "name": "stderr",
     "output_type": "stream",
     "text": [
      "/home/bb/ames-housing/env/lib/python3.9/site-packages/sklearn/preprocessing/_encoders.py:202: UserWarning: Found unknown categories in columns [8, 10, 25] during transform. These unknown categories will be encoded as all zeros\n",
      "  warnings.warn(\n",
      "/home/bb/ames-housing/env/lib/python3.9/site-packages/sklearn/preprocessing/_encoders.py:202: UserWarning: Found unknown categories in columns [22] during transform. These unknown categories will be encoded as all zeros\n",
      "  warnings.warn(\n",
      "/home/bb/ames-housing/env/lib/python3.9/site-packages/sklearn/preprocessing/_encoders.py:202: UserWarning: Found unknown categories in columns [5, 22] during transform. These unknown categories will be encoded as all zeros\n",
      "  warnings.warn(\n",
      "/home/bb/ames-housing/env/lib/python3.9/site-packages/sklearn/preprocessing/_encoders.py:202: UserWarning: Found unknown categories in columns [0, 15, 30, 31] during transform. These unknown categories will be encoded as all zeros\n",
      "  warnings.warn(\n",
      "/home/bb/ames-housing/env/lib/python3.9/site-packages/sklearn/preprocessing/_encoders.py:202: UserWarning: Found unknown categories in columns [14] during transform. These unknown categories will be encoded as all zeros\n",
      "  warnings.warn(\n",
      "/home/bb/ames-housing/env/lib/python3.9/site-packages/sklearn/preprocessing/_encoders.py:202: UserWarning: Found unknown categories in columns [10, 24, 31] during transform. These unknown categories will be encoded as all zeros\n",
      "  warnings.warn(\n",
      "/home/bb/ames-housing/env/lib/python3.9/site-packages/sklearn/preprocessing/_encoders.py:202: UserWarning: Found unknown categories in columns [14, 15, 16] during transform. These unknown categories will be encoded as all zeros\n",
      "  warnings.warn(\n",
      "/home/bb/ames-housing/env/lib/python3.9/site-packages/sklearn/preprocessing/_encoders.py:202: UserWarning: Found unknown categories in columns [15, 16] during transform. These unknown categories will be encoded as all zeros\n",
      "  warnings.warn(\n",
      "/home/bb/ames-housing/env/lib/python3.9/site-packages/sklearn/preprocessing/_encoders.py:202: UserWarning: Found unknown categories in columns [30] during transform. These unknown categories will be encoded as all zeros\n",
      "  warnings.warn(\n",
      "/home/bb/ames-housing/env/lib/python3.9/site-packages/sklearn/preprocessing/_encoders.py:202: UserWarning: Found unknown categories in columns [5, 22] during transform. These unknown categories will be encoded as all zeros\n",
      "  warnings.warn(\n",
      "/home/bb/ames-housing/env/lib/python3.9/site-packages/sklearn/preprocessing/_encoders.py:202: UserWarning: Found unknown categories in columns [8, 10, 25] during transform. These unknown categories will be encoded as all zeros\n",
      "  warnings.warn(\n",
      "/home/bb/ames-housing/env/lib/python3.9/site-packages/sklearn/preprocessing/_encoders.py:202: UserWarning: Found unknown categories in columns [22] during transform. These unknown categories will be encoded as all zeros\n",
      "  warnings.warn(\n",
      "/home/bb/ames-housing/env/lib/python3.9/site-packages/sklearn/preprocessing/_encoders.py:202: UserWarning: Found unknown categories in columns [0, 15, 30, 31] during transform. These unknown categories will be encoded as all zeros\n",
      "  warnings.warn(\n",
      "/home/bb/ames-housing/env/lib/python3.9/site-packages/sklearn/preprocessing/_encoders.py:202: UserWarning: Found unknown categories in columns [10, 24, 31] during transform. These unknown categories will be encoded as all zeros\n",
      "  warnings.warn(\n",
      "/home/bb/ames-housing/env/lib/python3.9/site-packages/sklearn/preprocessing/_encoders.py:202: UserWarning: Found unknown categories in columns [14] during transform. These unknown categories will be encoded as all zeros\n",
      "  warnings.warn(\n",
      "/home/bb/ames-housing/env/lib/python3.9/site-packages/sklearn/preprocessing/_encoders.py:202: UserWarning: Found unknown categories in columns [15, 16] during transform. These unknown categories will be encoded as all zeros\n",
      "  warnings.warn(\n",
      "/home/bb/ames-housing/env/lib/python3.9/site-packages/sklearn/preprocessing/_encoders.py:202: UserWarning: Found unknown categories in columns [14, 15, 16] during transform. These unknown categories will be encoded as all zeros\n",
      "  warnings.warn(\n",
      "/home/bb/ames-housing/env/lib/python3.9/site-packages/sklearn/preprocessing/_encoders.py:202: UserWarning: Found unknown categories in columns [30] during transform. These unknown categories will be encoded as all zeros\n",
      "  warnings.warn(\n",
      "/home/bb/ames-housing/env/lib/python3.9/site-packages/sklearn/preprocessing/_encoders.py:202: UserWarning: Found unknown categories in columns [8, 10, 25] during transform. These unknown categories will be encoded as all zeros\n",
      "  warnings.warn(\n",
      "/home/bb/ames-housing/env/lib/python3.9/site-packages/sklearn/preprocessing/_encoders.py:202: UserWarning: Found unknown categories in columns [5, 22] during transform. These unknown categories will be encoded as all zeros\n",
      "  warnings.warn(\n",
      "/home/bb/ames-housing/env/lib/python3.9/site-packages/sklearn/preprocessing/_encoders.py:202: UserWarning: Found unknown categories in columns [0, 15, 30, 31] during transform. These unknown categories will be encoded as all zeros\n",
      "  warnings.warn(\n",
      "/home/bb/ames-housing/env/lib/python3.9/site-packages/sklearn/preprocessing/_encoders.py:202: UserWarning: Found unknown categories in columns [22] during transform. These unknown categories will be encoded as all zeros\n",
      "  warnings.warn(\n",
      "/home/bb/ames-housing/env/lib/python3.9/site-packages/sklearn/preprocessing/_encoders.py:202: UserWarning: Found unknown categories in columns [10, 24, 31] during transform. These unknown categories will be encoded as all zeros\n",
      "  warnings.warn(\n",
      "/home/bb/ames-housing/env/lib/python3.9/site-packages/sklearn/preprocessing/_encoders.py:202: UserWarning: Found unknown categories in columns [14] during transform. These unknown categories will be encoded as all zeros\n",
      "  warnings.warn(\n",
      "/home/bb/ames-housing/env/lib/python3.9/site-packages/sklearn/preprocessing/_encoders.py:202: UserWarning: Found unknown categories in columns [14, 15, 16] during transform. These unknown categories will be encoded as all zeros\n",
      "  warnings.warn(\n",
      "/home/bb/ames-housing/env/lib/python3.9/site-packages/sklearn/preprocessing/_encoders.py:202: UserWarning: Found unknown categories in columns [15, 16] during transform. These unknown categories will be encoded as all zeros\n",
      "  warnings.warn(\n",
      "/home/bb/ames-housing/env/lib/python3.9/site-packages/sklearn/preprocessing/_encoders.py:202: UserWarning: Found unknown categories in columns [30] during transform. These unknown categories will be encoded as all zeros\n",
      "  warnings.warn(\n",
      "/home/bb/ames-housing/env/lib/python3.9/site-packages/sklearn/preprocessing/_encoders.py:202: UserWarning: Found unknown categories in columns [8, 10, 25] during transform. These unknown categories will be encoded as all zeros\n",
      "  warnings.warn(\n",
      "/home/bb/ames-housing/env/lib/python3.9/site-packages/sklearn/preprocessing/_encoders.py:202: UserWarning: Found unknown categories in columns [5, 22] during transform. These unknown categories will be encoded as all zeros\n",
      "  warnings.warn(\n",
      "/home/bb/ames-housing/env/lib/python3.9/site-packages/sklearn/preprocessing/_encoders.py:202: UserWarning: Found unknown categories in columns [22] during transform. These unknown categories will be encoded as all zeros\n",
      "  warnings.warn(\n",
      "/home/bb/ames-housing/env/lib/python3.9/site-packages/sklearn/preprocessing/_encoders.py:202: UserWarning: Found unknown categories in columns [0, 15, 30, 31] during transform. These unknown categories will be encoded as all zeros\n",
      "  warnings.warn(\n",
      "/home/bb/ames-housing/env/lib/python3.9/site-packages/sklearn/preprocessing/_encoders.py:202: UserWarning: Found unknown categories in columns [10, 24, 31] during transform. These unknown categories will be encoded as all zeros\n",
      "  warnings.warn(\n",
      "/home/bb/ames-housing/env/lib/python3.9/site-packages/sklearn/preprocessing/_encoders.py:202: UserWarning: Found unknown categories in columns [14] during transform. These unknown categories will be encoded as all zeros\n",
      "  warnings.warn(\n",
      "/home/bb/ames-housing/env/lib/python3.9/site-packages/sklearn/preprocessing/_encoders.py:202: UserWarning: Found unknown categories in columns [14, 15, 16] during transform. These unknown categories will be encoded as all zeros\n",
      "  warnings.warn(\n",
      "/home/bb/ames-housing/env/lib/python3.9/site-packages/sklearn/preprocessing/_encoders.py:202: UserWarning: Found unknown categories in columns [15, 16] during transform. These unknown categories will be encoded as all zeros\n",
      "  warnings.warn(\n",
      "/home/bb/ames-housing/env/lib/python3.9/site-packages/sklearn/preprocessing/_encoders.py:202: UserWarning: Found unknown categories in columns [30] during transform. These unknown categories will be encoded as all zeros\n",
      "  warnings.warn(\n"
     ]
    },
    {
     "name": "stderr",
     "output_type": "stream",
     "text": [
      "/home/bb/ames-housing/env/lib/python3.9/site-packages/sklearn/preprocessing/_encoders.py:202: UserWarning: Found unknown categories in columns [8, 10, 25] during transform. These unknown categories will be encoded as all zeros\n",
      "  warnings.warn(\n",
      "/home/bb/ames-housing/env/lib/python3.9/site-packages/sklearn/preprocessing/_encoders.py:202: UserWarning: Found unknown categories in columns [5, 22] during transform. These unknown categories will be encoded as all zeros\n",
      "  warnings.warn(\n",
      "/home/bb/ames-housing/env/lib/python3.9/site-packages/sklearn/preprocessing/_encoders.py:202: UserWarning: Found unknown categories in columns [22] during transform. These unknown categories will be encoded as all zeros\n",
      "  warnings.warn(\n",
      "/home/bb/ames-housing/env/lib/python3.9/site-packages/sklearn/preprocessing/_encoders.py:202: UserWarning: Found unknown categories in columns [0, 15, 30, 31] during transform. These unknown categories will be encoded as all zeros\n",
      "  warnings.warn(\n",
      "/home/bb/ames-housing/env/lib/python3.9/site-packages/sklearn/preprocessing/_encoders.py:202: UserWarning: Found unknown categories in columns [10, 24, 31] during transform. These unknown categories will be encoded as all zeros\n",
      "  warnings.warn(\n",
      "/home/bb/ames-housing/env/lib/python3.9/site-packages/sklearn/preprocessing/_encoders.py:202: UserWarning: Found unknown categories in columns [14] during transform. These unknown categories will be encoded as all zeros\n",
      "  warnings.warn(\n",
      "/home/bb/ames-housing/env/lib/python3.9/site-packages/sklearn/preprocessing/_encoders.py:202: UserWarning: Found unknown categories in columns [15, 16] during transform. These unknown categories will be encoded as all zeros\n",
      "  warnings.warn(\n"
     ]
    },
    {
     "data": {
      "text/html": [
       "<style>#sk-container-id-1 {color: black;background-color: white;}#sk-container-id-1 pre{padding: 0;}#sk-container-id-1 div.sk-toggleable {background-color: white;}#sk-container-id-1 label.sk-toggleable__label {cursor: pointer;display: block;width: 100%;margin-bottom: 0;padding: 0.3em;box-sizing: border-box;text-align: center;}#sk-container-id-1 label.sk-toggleable__label-arrow:before {content: \"▸\";float: left;margin-right: 0.25em;color: #696969;}#sk-container-id-1 label.sk-toggleable__label-arrow:hover:before {color: black;}#sk-container-id-1 div.sk-estimator:hover label.sk-toggleable__label-arrow:before {color: black;}#sk-container-id-1 div.sk-toggleable__content {max-height: 0;max-width: 0;overflow: hidden;text-align: left;background-color: #f0f8ff;}#sk-container-id-1 div.sk-toggleable__content pre {margin: 0.2em;color: black;border-radius: 0.25em;background-color: #f0f8ff;}#sk-container-id-1 input.sk-toggleable__control:checked~div.sk-toggleable__content {max-height: 200px;max-width: 100%;overflow: auto;}#sk-container-id-1 input.sk-toggleable__control:checked~label.sk-toggleable__label-arrow:before {content: \"▾\";}#sk-container-id-1 div.sk-estimator input.sk-toggleable__control:checked~label.sk-toggleable__label {background-color: #d4ebff;}#sk-container-id-1 div.sk-label input.sk-toggleable__control:checked~label.sk-toggleable__label {background-color: #d4ebff;}#sk-container-id-1 input.sk-hidden--visually {border: 0;clip: rect(1px 1px 1px 1px);clip: rect(1px, 1px, 1px, 1px);height: 1px;margin: -1px;overflow: hidden;padding: 0;position: absolute;width: 1px;}#sk-container-id-1 div.sk-estimator {font-family: monospace;background-color: #f0f8ff;border: 1px dotted black;border-radius: 0.25em;box-sizing: border-box;margin-bottom: 0.5em;}#sk-container-id-1 div.sk-estimator:hover {background-color: #d4ebff;}#sk-container-id-1 div.sk-parallel-item::after {content: \"\";width: 100%;border-bottom: 1px solid gray;flex-grow: 1;}#sk-container-id-1 div.sk-label:hover label.sk-toggleable__label {background-color: #d4ebff;}#sk-container-id-1 div.sk-serial::before {content: \"\";position: absolute;border-left: 1px solid gray;box-sizing: border-box;top: 0;bottom: 0;left: 50%;z-index: 0;}#sk-container-id-1 div.sk-serial {display: flex;flex-direction: column;align-items: center;background-color: white;padding-right: 0.2em;padding-left: 0.2em;position: relative;}#sk-container-id-1 div.sk-item {position: relative;z-index: 1;}#sk-container-id-1 div.sk-parallel {display: flex;align-items: stretch;justify-content: center;background-color: white;position: relative;}#sk-container-id-1 div.sk-item::before, #sk-container-id-1 div.sk-parallel-item::before {content: \"\";position: absolute;border-left: 1px solid gray;box-sizing: border-box;top: 0;bottom: 0;left: 50%;z-index: -1;}#sk-container-id-1 div.sk-parallel-item {display: flex;flex-direction: column;z-index: 1;position: relative;background-color: white;}#sk-container-id-1 div.sk-parallel-item:first-child::after {align-self: flex-end;width: 50%;}#sk-container-id-1 div.sk-parallel-item:last-child::after {align-self: flex-start;width: 50%;}#sk-container-id-1 div.sk-parallel-item:only-child::after {width: 0;}#sk-container-id-1 div.sk-dashed-wrapped {border: 1px dashed gray;margin: 0 0.4em 0.5em 0.4em;box-sizing: border-box;padding-bottom: 0.4em;background-color: white;}#sk-container-id-1 div.sk-label label {font-family: monospace;font-weight: bold;display: inline-block;line-height: 1.2em;}#sk-container-id-1 div.sk-label-container {text-align: center;}#sk-container-id-1 div.sk-container {/* jupyter's `normalize.less` sets `[hidden] { display: none; }` but bootstrap.min.css set `[hidden] { display: none !important; }` so we also need the `!important` here to be able to override the default hidden behavior on the sphinx rendered scikit-learn.org. See: https://github.com/scikit-learn/scikit-learn/issues/21755 */display: inline-block !important;position: relative;}#sk-container-id-1 div.sk-text-repr-fallback {display: none;}</style><div id=\"sk-container-id-1\" class=\"sk-top-container\"><div class=\"sk-text-repr-fallback\"><pre>GridSearchCV(cv=10,\n",
       "             estimator=Pipeline(steps=[(&#x27;sklearntransformerwrapper-1&#x27;,\n",
       "                                        SklearnTransformerWrapper(transformer=StandardScaler())),\n",
       "                                       (&#x27;sklearntransformerwrapper-2&#x27;,\n",
       "                                        SklearnTransformerWrapper(transformer=OneHotEncoder(drop=&#x27;if_binary&#x27;,\n",
       "                                                                                            handle_unknown=&#x27;ignore&#x27;,\n",
       "                                                                                            min_frequency=0.05,\n",
       "                                                                                            sparse_output=False),\n",
       "                                                                  variables=[&#x27;MSZoning&#x27;,\n",
       "                                                                             &#x27;Street&#x27;,\n",
       "                                                                             &#x27;Alley&#x27;,\n",
       "                                                                             &#x27;LotShape&#x27;,\n",
       "                                                                             &#x27;La...\n",
       "                                                                             &#x27;Exterior2nd&#x27;,\n",
       "                                                                             &#x27;MasVnrType&#x27;,\n",
       "                                                                             &#x27;Foundation&#x27;,\n",
       "                                                                             &#x27;BsmtExposure&#x27;,\n",
       "                                                                             &#x27;BsmtFinType1&#x27;,\n",
       "                                                                             &#x27;BsmtFinType2&#x27;,\n",
       "                                                                             &#x27;Heating&#x27;,\n",
       "                                                                             &#x27;CentralAir&#x27;,\n",
       "                                                                             &#x27;Electrical&#x27;,\n",
       "                                                                             &#x27;Functional&#x27;,\n",
       "                                                                             &#x27;GarageType&#x27;,\n",
       "                                                                             &#x27;GarageFinish&#x27;,\n",
       "                                                                             &#x27;PavedDrive&#x27;,\n",
       "                                                                             &#x27;Fence&#x27;, ...])),\n",
       "                                       (&#x27;kneighborsregressor&#x27;,\n",
       "                                        KNeighborsRegressor())]),\n",
       "             n_jobs=3,\n",
       "             param_grid={&#x27;kneighborsregressor__n_neighbors&#x27;: array([1, 2, 3, 4, 5, 6, 7, 8, 9])},\n",
       "             scoring=&#x27;neg_root_mean_squared_error&#x27;)</pre><b>In a Jupyter environment, please rerun this cell to show the HTML representation or trust the notebook. <br />On GitHub, the HTML representation is unable to render, please try loading this page with nbviewer.org.</b></div><div class=\"sk-container\" hidden><div class=\"sk-item sk-dashed-wrapped\"><div class=\"sk-label-container\"><div class=\"sk-label sk-toggleable\"><input class=\"sk-toggleable__control sk-hidden--visually\" id=\"sk-estimator-id-1\" type=\"checkbox\" ><label for=\"sk-estimator-id-1\" class=\"sk-toggleable__label sk-toggleable__label-arrow\">GridSearchCV</label><div class=\"sk-toggleable__content\"><pre>GridSearchCV(cv=10,\n",
       "             estimator=Pipeline(steps=[(&#x27;sklearntransformerwrapper-1&#x27;,\n",
       "                                        SklearnTransformerWrapper(transformer=StandardScaler())),\n",
       "                                       (&#x27;sklearntransformerwrapper-2&#x27;,\n",
       "                                        SklearnTransformerWrapper(transformer=OneHotEncoder(drop=&#x27;if_binary&#x27;,\n",
       "                                                                                            handle_unknown=&#x27;ignore&#x27;,\n",
       "                                                                                            min_frequency=0.05,\n",
       "                                                                                            sparse_output=False),\n",
       "                                                                  variables=[&#x27;MSZoning&#x27;,\n",
       "                                                                             &#x27;Street&#x27;,\n",
       "                                                                             &#x27;Alley&#x27;,\n",
       "                                                                             &#x27;LotShape&#x27;,\n",
       "                                                                             &#x27;La...\n",
       "                                                                             &#x27;Exterior2nd&#x27;,\n",
       "                                                                             &#x27;MasVnrType&#x27;,\n",
       "                                                                             &#x27;Foundation&#x27;,\n",
       "                                                                             &#x27;BsmtExposure&#x27;,\n",
       "                                                                             &#x27;BsmtFinType1&#x27;,\n",
       "                                                                             &#x27;BsmtFinType2&#x27;,\n",
       "                                                                             &#x27;Heating&#x27;,\n",
       "                                                                             &#x27;CentralAir&#x27;,\n",
       "                                                                             &#x27;Electrical&#x27;,\n",
       "                                                                             &#x27;Functional&#x27;,\n",
       "                                                                             &#x27;GarageType&#x27;,\n",
       "                                                                             &#x27;GarageFinish&#x27;,\n",
       "                                                                             &#x27;PavedDrive&#x27;,\n",
       "                                                                             &#x27;Fence&#x27;, ...])),\n",
       "                                       (&#x27;kneighborsregressor&#x27;,\n",
       "                                        KNeighborsRegressor())]),\n",
       "             n_jobs=3,\n",
       "             param_grid={&#x27;kneighborsregressor__n_neighbors&#x27;: array([1, 2, 3, 4, 5, 6, 7, 8, 9])},\n",
       "             scoring=&#x27;neg_root_mean_squared_error&#x27;)</pre></div></div></div><div class=\"sk-parallel\"><div class=\"sk-parallel-item\"><div class=\"sk-item\"><div class=\"sk-label-container\"><div class=\"sk-label sk-toggleable\"><input class=\"sk-toggleable__control sk-hidden--visually\" id=\"sk-estimator-id-2\" type=\"checkbox\" ><label for=\"sk-estimator-id-2\" class=\"sk-toggleable__label sk-toggleable__label-arrow\">estimator: Pipeline</label><div class=\"sk-toggleable__content\"><pre>Pipeline(steps=[(&#x27;sklearntransformerwrapper-1&#x27;,\n",
       "                 SklearnTransformerWrapper(transformer=StandardScaler())),\n",
       "                (&#x27;sklearntransformerwrapper-2&#x27;,\n",
       "                 SklearnTransformerWrapper(transformer=OneHotEncoder(drop=&#x27;if_binary&#x27;,\n",
       "                                                                     handle_unknown=&#x27;ignore&#x27;,\n",
       "                                                                     min_frequency=0.05,\n",
       "                                                                     sparse_output=False),\n",
       "                                           variables=[&#x27;MSZoning&#x27;, &#x27;Street&#x27;,\n",
       "                                                      &#x27;Alley&#x27;, &#x27;LotShape&#x27;,\n",
       "                                                      &#x27;LandContour&#x27;,\n",
       "                                                      &#x27;Utilities&#x27;, &#x27;LotCo...\n",
       "                                                      &#x27;LandSlope&#x27;,\n",
       "                                                      &#x27;Neighborhood&#x27;,\n",
       "                                                      &#x27;Condition1&#x27;,\n",
       "                                                      &#x27;Condition2&#x27;, &#x27;BldgType&#x27;,\n",
       "                                                      &#x27;HouseStyle&#x27;, &#x27;RoofStyle&#x27;,\n",
       "                                                      &#x27;RoofMatl&#x27;, &#x27;Exterior1st&#x27;,\n",
       "                                                      &#x27;Exterior2nd&#x27;,\n",
       "                                                      &#x27;MasVnrType&#x27;,\n",
       "                                                      &#x27;Foundation&#x27;,\n",
       "                                                      &#x27;BsmtExposure&#x27;,\n",
       "                                                      &#x27;BsmtFinType1&#x27;,\n",
       "                                                      &#x27;BsmtFinType2&#x27;, &#x27;Heating&#x27;,\n",
       "                                                      &#x27;CentralAir&#x27;,\n",
       "                                                      &#x27;Electrical&#x27;,\n",
       "                                                      &#x27;Functional&#x27;,\n",
       "                                                      &#x27;GarageType&#x27;,\n",
       "                                                      &#x27;GarageFinish&#x27;,\n",
       "                                                      &#x27;PavedDrive&#x27;, &#x27;Fence&#x27;, ...])),\n",
       "                (&#x27;kneighborsregressor&#x27;, KNeighborsRegressor())])</pre></div></div></div><div class=\"sk-serial\"><div class=\"sk-item\"><div class=\"sk-serial\"><div class=\"sk-item sk-dashed-wrapped\"><div class=\"sk-label-container\"><div class=\"sk-label sk-toggleable\"><input class=\"sk-toggleable__control sk-hidden--visually\" id=\"sk-estimator-id-3\" type=\"checkbox\" ><label for=\"sk-estimator-id-3\" class=\"sk-toggleable__label sk-toggleable__label-arrow\">sklearntransformerwrapper-1: SklearnTransformerWrapper</label><div class=\"sk-toggleable__content\"><pre>SklearnTransformerWrapper(transformer=StandardScaler())</pre></div></div></div><div class=\"sk-parallel\"><div class=\"sk-parallel-item\"><div class=\"sk-item\"><div class=\"sk-label-container\"><div class=\"sk-label sk-toggleable\"><input class=\"sk-toggleable__control sk-hidden--visually\" id=\"sk-estimator-id-4\" type=\"checkbox\" ><label for=\"sk-estimator-id-4\" class=\"sk-toggleable__label sk-toggleable__label-arrow\">transformer: StandardScaler</label><div class=\"sk-toggleable__content\"><pre>StandardScaler()</pre></div></div></div><div class=\"sk-serial\"><div class=\"sk-item\"><div class=\"sk-estimator sk-toggleable\"><input class=\"sk-toggleable__control sk-hidden--visually\" id=\"sk-estimator-id-5\" type=\"checkbox\" ><label for=\"sk-estimator-id-5\" class=\"sk-toggleable__label sk-toggleable__label-arrow\">StandardScaler</label><div class=\"sk-toggleable__content\"><pre>StandardScaler()</pre></div></div></div></div></div></div></div></div><div class=\"sk-item sk-dashed-wrapped\"><div class=\"sk-label-container\"><div class=\"sk-label sk-toggleable\"><input class=\"sk-toggleable__control sk-hidden--visually\" id=\"sk-estimator-id-6\" type=\"checkbox\" ><label for=\"sk-estimator-id-6\" class=\"sk-toggleable__label sk-toggleable__label-arrow\">sklearntransformerwrapper-2: SklearnTransformerWrapper</label><div class=\"sk-toggleable__content\"><pre>SklearnTransformerWrapper(transformer=OneHotEncoder(drop=&#x27;if_binary&#x27;,\n",
       "                                                    handle_unknown=&#x27;ignore&#x27;,\n",
       "                                                    min_frequency=0.05,\n",
       "                                                    sparse_output=False),\n",
       "                          variables=[&#x27;MSZoning&#x27;, &#x27;Street&#x27;, &#x27;Alley&#x27;, &#x27;LotShape&#x27;,\n",
       "                                     &#x27;LandContour&#x27;, &#x27;Utilities&#x27;, &#x27;LotConfig&#x27;,\n",
       "                                     &#x27;LandSlope&#x27;, &#x27;Neighborhood&#x27;, &#x27;Condition1&#x27;,\n",
       "                                     &#x27;Condition2&#x27;, &#x27;BldgType&#x27;, &#x27;HouseStyle&#x27;,\n",
       "                                     &#x27;RoofStyle&#x27;, &#x27;RoofMatl&#x27;, &#x27;Exterior1st&#x27;,\n",
       "                                     &#x27;Exterior2nd&#x27;, &#x27;MasVnrType&#x27;, &#x27;Foundation&#x27;,\n",
       "                                     &#x27;BsmtExposure&#x27;, &#x27;BsmtFinType1&#x27;,\n",
       "                                     &#x27;BsmtFinType2&#x27;, &#x27;Heating&#x27;, &#x27;CentralAir&#x27;,\n",
       "                                     &#x27;Electrical&#x27;, &#x27;Functional&#x27;, &#x27;GarageType&#x27;,\n",
       "                                     &#x27;GarageFinish&#x27;, &#x27;PavedDrive&#x27;, &#x27;Fence&#x27;, ...])</pre></div></div></div><div class=\"sk-parallel\"><div class=\"sk-parallel-item\"><div class=\"sk-item\"><div class=\"sk-label-container\"><div class=\"sk-label sk-toggleable\"><input class=\"sk-toggleable__control sk-hidden--visually\" id=\"sk-estimator-id-7\" type=\"checkbox\" ><label for=\"sk-estimator-id-7\" class=\"sk-toggleable__label sk-toggleable__label-arrow\">transformer: OneHotEncoder</label><div class=\"sk-toggleable__content\"><pre>OneHotEncoder(drop=&#x27;if_binary&#x27;, handle_unknown=&#x27;ignore&#x27;, min_frequency=0.05,\n",
       "              sparse_output=False)</pre></div></div></div><div class=\"sk-serial\"><div class=\"sk-item\"><div class=\"sk-estimator sk-toggleable\"><input class=\"sk-toggleable__control sk-hidden--visually\" id=\"sk-estimator-id-8\" type=\"checkbox\" ><label for=\"sk-estimator-id-8\" class=\"sk-toggleable__label sk-toggleable__label-arrow\">OneHotEncoder</label><div class=\"sk-toggleable__content\"><pre>OneHotEncoder(drop=&#x27;if_binary&#x27;, handle_unknown=&#x27;ignore&#x27;, min_frequency=0.05,\n",
       "              sparse_output=False)</pre></div></div></div></div></div></div></div></div><div class=\"sk-item\"><div class=\"sk-estimator sk-toggleable\"><input class=\"sk-toggleable__control sk-hidden--visually\" id=\"sk-estimator-id-9\" type=\"checkbox\" ><label for=\"sk-estimator-id-9\" class=\"sk-toggleable__label sk-toggleable__label-arrow\">KNeighborsRegressor</label><div class=\"sk-toggleable__content\"><pre>KNeighborsRegressor()</pre></div></div></div></div></div></div></div></div></div></div></div></div>"
      ],
      "text/plain": [
       "GridSearchCV(cv=10,\n",
       "             estimator=Pipeline(steps=[('sklearntransformerwrapper-1',\n",
       "                                        SklearnTransformerWrapper(transformer=StandardScaler())),\n",
       "                                       ('sklearntransformerwrapper-2',\n",
       "                                        SklearnTransformerWrapper(transformer=OneHotEncoder(drop='if_binary',\n",
       "                                                                                            handle_unknown='ignore',\n",
       "                                                                                            min_frequency=0.05,\n",
       "                                                                                            sparse_output=False),\n",
       "                                                                  variables=['MSZoning',\n",
       "                                                                             'Street',\n",
       "                                                                             'Alley',\n",
       "                                                                             'LotShape',\n",
       "                                                                             'La...\n",
       "                                                                             'Exterior2nd',\n",
       "                                                                             'MasVnrType',\n",
       "                                                                             'Foundation',\n",
       "                                                                             'BsmtExposure',\n",
       "                                                                             'BsmtFinType1',\n",
       "                                                                             'BsmtFinType2',\n",
       "                                                                             'Heating',\n",
       "                                                                             'CentralAir',\n",
       "                                                                             'Electrical',\n",
       "                                                                             'Functional',\n",
       "                                                                             'GarageType',\n",
       "                                                                             'GarageFinish',\n",
       "                                                                             'PavedDrive',\n",
       "                                                                             'Fence', ...])),\n",
       "                                       ('kneighborsregressor',\n",
       "                                        KNeighborsRegressor())]),\n",
       "             n_jobs=3,\n",
       "             param_grid={'kneighborsregressor__n_neighbors': array([1, 2, 3, 4, 5, 6, 7, 8, 9])},\n",
       "             scoring='neg_root_mean_squared_error')"
      ]
     },
     "execution_count": 52,
     "metadata": {},
     "output_type": "execute_result"
    }
   ],
   "source": [
    "gs.fit(X=X_train,y=y_train)"
   ]
  },
  {
   "cell_type": "code",
   "execution_count": 65,
   "id": "b0d11272",
   "metadata": {},
   "outputs": [
    {
     "data": {
      "text/plain": [
       "[<matplotlib.lines.Line2D at 0x7f607c887520>]"
      ]
     },
     "execution_count": 65,
     "metadata": {},
     "output_type": "execute_result"
    },
    {
     "data": {
      "image/png": "[encoded data removed]",
      "text/plain": [
       "<Figure size 640x480 with 1 Axes>"
      ]
     },
     "metadata": {},
     "output_type": "display_data"
    }
   ],
   "source": [
    "import matplotlib.pyplot as plt\n",
    "plt.plot(gs.cv_results_['param_kneighborsregressor__n_neighbors'].data.tolist(), gs.cv_results_['mean_test_score'])"
   ]
  },
  {
   "cell_type": "code",
   "execution_count": 66,
   "id": "e0058ddd",
   "metadata": {},
   "outputs": [
    {
     "data": {
      "text/plain": [
       "{'kneighborsregressor__n_neighbors': 7}"
      ]
     },
     "execution_count": 66,
     "metadata": {},
     "output_type": "execute_result"
    }
   ],
   "source": [
    "gs.best_params_"
   ]
  },
  {
   "cell_type": "code",
   "execution_count": null,
   "id": "3d21a418",
   "metadata": {},
   "outputs": [],
   "source": []
  }
 ],
 "metadata": {
  "kernelspec": {
   "display_name": "env",
   "language": "python",
   "name": "env"
  },
  "language_info": {
   "codemirror_mode": {
    "name": "ipython",
    "version": 3
   },
   "file_extension": ".py",
   "mimetype": "text/x-python",
   "name": "python",
   "nbconvert_exporter": "python",
   "pygments_lexer": "ipython3",
   "version": "3.9.12"
  }
 },
 "nbformat": 4,
 "nbformat_minor": 5
}
